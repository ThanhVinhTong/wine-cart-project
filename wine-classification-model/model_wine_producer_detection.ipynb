{
  "nbformat": 4,
  "nbformat_minor": 0,
  "metadata": {
    "colab": {
      "provenance": [],
      "gpuType": "T4"
    },
    "kernelspec": {
      "name": "python3",
      "display_name": "Python 3"
    },
    "language_info": {
      "name": "python"
    }
  },
  "cells": [
    {
      "cell_type": "code",
      "execution_count": null,
      "metadata": {
        "colab": {
          "base_uri": "https://localhost:8080/"
        },
        "id": "ptaXsw5pmpd0",
        "outputId": "cdf7d6a8-e9ea-42b2-e2d1-2363d6fd6625"
      },
      "outputs": [
        {
          "output_type": "stream",
          "name": "stdout",
          "text": [
            "Mounted at /content/drive\n"
          ]
        }
      ],
      "source": [
        "from google.colab import drive\n",
        "drive.mount('/content/drive')"
      ]
    },
    {
      "cell_type": "markdown",
      "source": [
        "# **Libraries**"
      ],
      "metadata": {
        "id": "qEc8pQ1Dmqi_"
      }
    },
    {
      "cell_type": "code",
      "source": [
        "import os\n",
        "import random\n",
        "import cv2\n",
        "import numpy as np\n",
        "import pandas as pd\n",
        "import matplotlib.pyplot as plt\n",
        "import shutil\n",
        "\n",
        "from sklearn.model_selection import train_test_split\n",
        "from sklearn.utils import shuffle\n",
        "\n",
        "import torch\n",
        "import torch.nn as nn\n",
        "import torch.optim as optim\n",
        "import torchvision.transforms as transforms\n",
        "from torch.utils.data import Dataset, DataLoader\n",
        "from torchvision.transforms import ToTensor\n",
        "from torchvision import models\n",
        "\n",
        "from PIL import Image\n",
        "from collections import Counter\n",
        "from tqdm import tqdm\n",
        "\n",
        "import imgaug.augmenters as iaa\n",
        "import albumentations as A"
      ],
      "metadata": {
        "id": "RXGZJqAgmqBQ"
      },
      "execution_count": null,
      "outputs": []
    },
    {
      "cell_type": "code",
      "source": [
        "# Check if a GPU is available and use it, otherwise use CPU\n",
        "device = torch.device(\"cuda\" if torch.cuda.is_available() else \"cpu\")"
      ],
      "metadata": {
        "id": "CHgsMvA25T2R"
      },
      "execution_count": null,
      "outputs": []
    },
    {
      "cell_type": "code",
      "source": [
        "device"
      ],
      "metadata": {
        "id": "1Cb6ph255VDp"
      },
      "execution_count": null,
      "outputs": []
    },
    {
      "cell_type": "markdown",
      "source": [
        "# **Data Augmenting**"
      ],
      "metadata": {
        "id": "-vCD2UpQw0J9"
      }
    },
    {
      "cell_type": "code",
      "source": [
        "# Define the paths\n",
        "original_images_folder = \"/content/drive/MyDrive/WineData/images/\"\n",
        "original_labels_file = \"/content/drive/MyDrive/WineData/labels/wine_producer_label/wine_labels_yolo_format_producer.csv\"\n",
        "output_images_folder = \"/content/drive/MyDrive/WineData/augmented_images/\"\n",
        "output_labels_file = \"/content/drive/MyDrive/WineData/labels/wine_producer_label/augmented_wine_labels_yolo_format_label.csv\"\n",
        "min_augmentations_per_label = 20  # Minimum number of augmentations per label\n",
        "max_augmentations_per_label = 25  # Maximum number of augmentations per label\n",
        "\n",
        "# Load the original labels\n",
        "labels_df = pd.read_csv(original_labels_file)\n",
        "\n",
        "# Create output folders if they don't exist\n",
        "os.makedirs(output_images_folder, exist_ok=True)\n",
        "\n",
        "# Create an empty DataFrame to store augmented labels\n",
        "augmented_labels_df = pd.DataFrame(\n",
        "    columns=[\n",
        "        \"label_id\", \"yolo_x\", \"yolo_y\", \"yolo_width\", \"yolo_height\", \"label_name\", \"image_name\"\n",
        "    ]\n",
        ")\n",
        "\n",
        "# Define the augmentation sequence\n",
        "augmentation_seq = iaa.Sequential([\n",
        "    iaa.Flipud(0.5),\n",
        "    iaa.Affine(rotate=(-10, 10)),\n",
        "    iaa.GaussianBlur(sigma=(0, 1.0)),\n",
        "    iaa.LinearContrast((0.8, 1.2)),\n",
        "    iaa.AdditiveGaussianNoise(scale=(0, 0.05 * 255)),\n",
        "    iaa.Sharpen(alpha=(0, 0.5), lightness=(0.8, 1.2))\n",
        "])\n",
        "\n",
        "# Augment the images and labels\n",
        "for index, row in labels_df.iterrows():\n",
        "    image_path = os.path.join(original_images_folder, row[\"image_name\"])\n",
        "    label = row[\"label_id\"]\n",
        "    num_augmentations = np.random.randint(\n",
        "        min_augmentations_per_label, max_augmentations_per_label + 1\n",
        "    )  # Randomly select the number of augmentations\n",
        "\n",
        "    # Load the image\n",
        "    image = np.array(Image.open(image_path))\n",
        "\n",
        "    # Apply augmentations\n",
        "    for i in range(num_augmentations):\n",
        "        # Apply augmentation to the image\n",
        "        augmented_image = augmentation_seq.augment_image(image)\n",
        "\n",
        "        # Convert the augmented image back to PIL format\n",
        "        augmented_image = Image.fromarray(augmented_image.astype(np.uint8))\n",
        "\n",
        "        # Save the augmented image\n",
        "        output_image_path = os.path.join(\n",
        "            output_images_folder, f\"augmented_{index}_{i}.jpg\"\n",
        "        )\n",
        "        augmented_image.save(output_image_path)\n",
        "\n",
        "        # Create a new row for the augmented label\n",
        "        augmented_row = pd.Series({\n",
        "            \"label_id\": label,\n",
        "            \"yolo_x\": row[\"yolo_x\"],\n",
        "            \"yolo_y\": row[\"yolo_y\"],\n",
        "            \"yolo_width\": row[\"yolo_width\"],\n",
        "            \"yolo_height\": row[\"yolo_height\"],\n",
        "            \"label_name\": row[\"label_name\"],\n",
        "            \"image_name\": f\"augmented_{index}_{i}.jpg\"\n",
        "        })\n",
        "\n",
        "        # Append the augmented label to the DataFrame\n",
        "        augmented_labels_df = augmented_labels_df.append(augmented_row, ignore_index=True)\n",
        "\n",
        "# Save the augmented labels to a single file\n",
        "augmented_labels_df.to_csv(\n",
        "    output_labels_file,\n",
        "    index=False,\n",
        "    columns=[\n",
        "        \"label_id\", \"yolo_x\", \"yolo_y\", \"yolo_width\", \"yolo_height\", \"label_name\", \"image_name\"\n",
        "    ]\n",
        ")"
      ],
      "metadata": {
        "id": "qAIT9fj9w2z1"
      },
      "execution_count": null,
      "outputs": []
    },
    {
      "cell_type": "code",
      "source": [
        "len(os.listdir('/content/drive/MyDrive/WineData/augmented_images/'))"
      ],
      "metadata": {
        "id": "MAINt1VkxmlQ"
      },
      "execution_count": null,
      "outputs": []
    },
    {
      "cell_type": "markdown",
      "source": [
        "# **Data Preprocessing**"
      ],
      "metadata": {
        "id": "9LlAejVitdFn"
      }
    },
    {
      "cell_type": "code",
      "source": [
        "class WineDataset(Dataset):\n",
        "    def __init__(self, data_path, labels_file, transform=None):\n",
        "        self.data_path = data_path\n",
        "        self.labels_df = pd.read_csv(labels_file)\n",
        "        self.transform = transform\n",
        "\n",
        "    def __len__(self):\n",
        "        return len(self.labels_df)\n",
        "\n",
        "    def __getitem__(self, index):\n",
        "        image_path = os.path.join(self.data_path, self.labels_df.iloc[index]['image_name'])\n",
        "        image = Image.open(image_path).convert('RGB')\n",
        "        label = self.labels_df.iloc[index]['producer_id'] - 1  # Subtract 1 to encode labels\n",
        "\n",
        "        if self.transform:\n",
        "            image = self.transform(image)\n",
        "\n",
        "        return image, label"
      ],
      "metadata": {
        "id": "WDf40LWAojxW"
      },
      "execution_count": null,
      "outputs": []
    },
    {
      "cell_type": "code",
      "source": [
        "# Define the paths\n",
        "data_path = \"/content/drive/MyDrive/WineData/augmented_images\"\n",
        "labels_file = \"/content/drive/MyDrive/WineData/labels/wine_producer_label/augmented_wine_labels_yolo_format_producer.csv\"\n",
        "output_folder = \"/content/drive/MyDrive/WineData/preprocessed\"\n",
        "\n",
        "# Create output folder if it doesn't exist\n",
        "os.makedirs(output_folder, exist_ok=True)\n",
        "\n",
        "# Define transformations for resizing and normalization\n",
        "transform = transforms.Compose([\n",
        "    transforms.Resize((224, 224)),    # Resize the image to 224x224\n",
        "    transforms.ToTensor(),             # Convert image to tensor\n",
        "    transforms.Normalize(mean=[0.485, 0.456, 0.406], std=[0.229, 0.224, 0.225])  # Normalize image\n",
        "])\n",
        "\n",
        "# Create WineDataset instance\n",
        "dataset = WineDataset(data_path, labels_file, transform=transform)\n",
        "\n",
        "# Perform train-test split (80%/10%/10%)\n",
        "train_size = int(0.8 * len(dataset))\n",
        "val_size = int(0.1 * len(dataset))\n",
        "test_size = len(dataset) - train_size - val_size\n",
        "train_dataset, val_dataset, test_dataset = torch.utils.data.random_split(dataset, [train_size, val_size, test_size])\n",
        "\n",
        "# Create data loaders\n",
        "batch_size = 32\n",
        "train_loader = DataLoader(train_dataset, batch_size=batch_size, shuffle=True)\n",
        "val_loader = DataLoader(val_dataset, batch_size=batch_size, shuffle=False)\n",
        "test_loader = DataLoader(test_dataset, batch_size=batch_size, shuffle=False)\n",
        "\n",
        "# Save preprocessed data loaders\n",
        "torch.save(train_loader, os.path.join(output_folder, \"train_loader.pth\"))\n",
        "torch.save(val_loader, os.path.join(output_folder, \"val_loader.pth\"))\n",
        "torch.save(test_loader, os.path.join(output_folder, \"test_loader.pth\"))"
      ],
      "metadata": {
        "id": "EkBgm9D741PM"
      },
      "execution_count": null,
      "outputs": []
    },
    {
      "cell_type": "markdown",
      "source": [
        "# **Check train-valid-test classes distribution**"
      ],
      "metadata": {
        "id": "eDoLREi6IJH4"
      }
    },
    {
      "cell_type": "code",
      "source": [
        "# Calculate class distribution in train loader\n",
        "train_class_distribution = {}\n",
        "for _, labels in train_loader:\n",
        "    for label in labels:\n",
        "        if label.item() not in train_class_distribution:\n",
        "            train_class_distribution[label.item()] = 0\n",
        "        train_class_distribution[label.item()] += 1\n",
        "\n",
        "# Calculate class distribution in validation loader\n",
        "val_class_distribution = {}\n",
        "for _, labels in val_loader:\n",
        "    for label in labels:\n",
        "        if label.item() not in val_class_distribution:\n",
        "            val_class_distribution[label.item()] = 0\n",
        "        val_class_distribution[label.item()] += 1\n",
        "\n",
        "# Calculate class distribution in test loader\n",
        "test_class_distribution = {}\n",
        "for _, labels in test_loader:\n",
        "    for label in labels:\n",
        "        if label.item() not in test_class_distribution:\n",
        "            test_class_distribution[label.item()] = 0\n",
        "        test_class_distribution[label.item()] += 1\n",
        "\n",
        "# Print class distribution in train loader\n",
        "print(\"Train Loader - Class Distribution:\")\n",
        "for label_id, count in train_class_distribution.items():\n",
        "    print(f\"Class {label_id + 1}: {count} samples\")\n",
        "\n",
        "# Print class distribution in validation loader\n",
        "print(\"Validation Loader - Class Distribution:\")\n",
        "for label_id, count in val_class_distribution.items():\n",
        "    print(f\"Class {label_id + 1}: {count} samples\")\n",
        "\n",
        "# Print class distribution in test loader\n",
        "print(\"Test Loader - Class Distribution:\")\n",
        "for label_id, count in test_class_distribution.items():\n",
        "    print(f\"Class {label_id + 1}: {count} samples\")\n"
      ],
      "metadata": {
        "id": "8VQBkdFY5mnu"
      },
      "execution_count": null,
      "outputs": []
    },
    {
      "cell_type": "markdown",
      "source": [
        "# **Model Design And Training**"
      ],
      "metadata": {
        "id": "j32sa5zJtmEr"
      }
    },
    {
      "cell_type": "code",
      "source": [
        "model_path = \"/content/drive/MyDrive/WineData/model_weight_save/producer_model_weight/model_resnet50_weight_{}.pth\"\n",
        "model_path"
      ],
      "metadata": {
        "id": "Z-xOSIbBxoWx"
      },
      "execution_count": null,
      "outputs": []
    },
    {
      "cell_type": "code",
      "source": [
        "\"\"\"\n",
        "Epoch 1 - Training: 100%|██████████| 406/406 [2:15:55<00:00, 20.09s/it]\n",
        "Epoch 1 - Validation: 100%|██████████| 51/51 [05:13<00:00,  6.14s/it]\n",
        "Epoch 1 - Train Loss: 3.7395 - Train Acc: 14.40% - Val Loss: 2.9221 - Val Acc: 32.94%\n",
        "Epoch 2 - Training: 100%|██████████| 406/406 [4:59:12<00:00, 44.22s/it]\n",
        "Epoch 2 - Validation: 100%|██████████| 51/51 [24:10<00:00, 28.44s/it]\n",
        "Epoch 2 - Train Loss: 1.7837 - Train Acc: 63.77% - Val Loss: 0.7298 - Val Acc: 88.65%\n",
        "Epoch 3 - Training: 100%|██████████| 406/406 [2:14:30<00:00, 19.88s/it]\n",
        "Epoch 3 - Validation: 100%|██████████| 51/51 [05:04<00:00,  5.97s/it]\n",
        "Epoch 3 - Train Loss: 0.3982 - Train Acc: 95.30% - Val Loss: 0.1212 - Val Acc: 99.20%\n",
        "Epoch 4 - Training: 100%|██████████| 406/406 [2:30:02<00:00, 22.17s/it]\n",
        "Epoch 4 - Validation: 100%|██████████| 51/51 [05:02<00:00,  5.94s/it]\n",
        "Epoch 4 - Train Loss: 0.1004 - Train Acc: 99.44% - Val Loss: 0.0390 - Val Acc: 99.94%\n",
        "\"\"\""
      ],
      "metadata": {
        "id": "Mu8NdEu9nztx"
      },
      "execution_count": null,
      "outputs": []
    },
    {
      "cell_type": "code",
      "source": [
        "# Load the preprocessed data loaders\n",
        "train_loader = torch.load(\"/content/drive/MyDrive/WineData/preprocessed/train_loader.pth\")\n",
        "val_loader = torch.load(\"/content/drive/MyDrive/WineData/preprocessed/val_loader.pth\")\n",
        "test_loader = torch.load(\"/content/drive/MyDrive/WineData/preprocessed/test_loader.pth\")\n",
        "\n",
        "# Load the ResNet-50 model\n",
        "model = models.resnet50(pretrained=True)\n",
        "num_features = model.fc.in_features\n",
        "model.fc = nn.Linear(num_features, 75)\n",
        "model = model.to(device)\n",
        "\n",
        "# Load the model checkpoint\n",
        "checkpoint_path = \"/content/drive/MyDrive/WineData/model_weight_save/producer_model_weight/model_resnet50_weight_3.pth\"\n",
        "checkpoint = torch.load(checkpoint_path)\n",
        "model.load_state_dict(checkpoint)\n",
        "\n",
        "# Define the loss function and optimizer\n",
        "criterion = nn.CrossEntropyLoss()\n",
        "optimizer = optim.SGD(model.parameters(), lr=0.001, momentum=0.9)\n",
        "\n",
        "# Training loop\n",
        "num_epochs = 10\n",
        "\n",
        "for epoch in range(4, num_epochs):\n",
        "    # Training\n",
        "    model.train()\n",
        "    running_loss = 0.0\n",
        "    correct = 0\n",
        "    total = 0\n",
        "\n",
        "    for images, labels in tqdm(train_loader, desc=f\"Epoch {epoch+1} - Training\"):\n",
        "        images = images.to(device)\n",
        "        labels = labels.to(device)\n",
        "\n",
        "        optimizer.zero_grad()\n",
        "\n",
        "        outputs = model(images)\n",
        "        _, predicted = outputs.max(1)\n",
        "        total += labels.size(0)\n",
        "        correct += (predicted == labels).sum().item()\n",
        "\n",
        "        loss = criterion(outputs, labels)\n",
        "        loss.backward()\n",
        "        optimizer.step()\n",
        "\n",
        "        running_loss += loss.item()\n",
        "\n",
        "    train_loss = running_loss / len(train_loader)\n",
        "    train_accuracy = 100.0 * correct / total\n",
        "\n",
        "    # Validation\n",
        "    model.eval()\n",
        "    running_loss = 0.0\n",
        "    correct = 0\n",
        "    total = 0\n",
        "\n",
        "    with torch.no_grad():\n",
        "        for images, labels in tqdm(val_loader, desc=f\"Epoch {epoch+1} - Validation\"):\n",
        "            images = images.to(device)\n",
        "            labels = labels.to(device)\n",
        "\n",
        "            outputs = model(images)\n",
        "            loss = criterion(outputs, labels)\n",
        "            running_loss += loss.item()\n",
        "\n",
        "            _, predicted = outputs.max(1)\n",
        "            total += labels.size(0)\n",
        "            correct += (predicted == labels).sum().item()\n",
        "\n",
        "    val_loss = running_loss / len(val_loader)\n",
        "    val_accuracy = 100.0 * correct / total\n",
        "\n",
        "    print(f\"Epoch {epoch+1} - Train Loss: {train_loss:.4f} - Train Acc: {train_accuracy:.2f}% - Val Loss: {val_loss:.4f} - Val Acc: {val_accuracy:.2f}%\")\n",
        "\n",
        "    # Save the trained model\n",
        "    torch.save(model.state_dict(), model_path.format(epoch))\n"
      ],
      "metadata": {
        "id": "Nmw4Z9VYz7lZ"
      },
      "execution_count": null,
      "outputs": []
    },
    {
      "cell_type": "code",
      "source": [
        "torch.save(model.state_dict(), model_path.format(5))"
      ],
      "metadata": {
        "id": "1VJ0-73Jx2ES"
      },
      "execution_count": null,
      "outputs": []
    },
    {
      "cell_type": "markdown",
      "source": [
        "# **Evaluating The Model**"
      ],
      "metadata": {
        "id": "PIZQR2m2uJYC"
      }
    },
    {
      "cell_type": "code",
      "source": [
        "# Load the preprocessed data loaders\n",
        "train_loader = torch.load(\"/content/drive/MyDrive/WineData/preprocessed/train_loader.pth\")\n",
        "val_loader = torch.load(\"/content/drive/MyDrive/WineData/preprocessed/val_loader.pth\")\n",
        "test_loader = torch.load(\"/content/drive/MyDrive/WineData/preprocessed/test_loader.pth\")\n",
        "\n",
        "# Load the ResNet-50 model\n",
        "model = models.resnet50(pretrained=True)\n",
        "num_features = model.fc.in_features\n",
        "model.fc = nn.Linear(num_features, 75)\n",
        "model = model.to(device)\n",
        "\n",
        "# Load the model checkpoint\n",
        "checkpoint_path = \"/content/drive/MyDrive/WineData/model_weight_save/producer_model_weight/model_resnet50_weight_5.pth\"\n",
        "checkpoint = torch.load(checkpoint_path)\n",
        "model.load_state_dict(checkpoint)\n",
        "\n",
        "# Define the loss function and optimizer\n",
        "criterion = nn.CrossEntropyLoss()\n",
        "optimizer = optim.SGD(model.parameters(), lr=0.001, momentum=0.9)\n",
        "\n",
        "# Testing\n",
        "model.eval()\n",
        "running_loss = 0.0\n",
        "correct = 0\n",
        "total = 0\n",
        "\n",
        "with torch.no_grad():\n",
        "    for images, labels in tqdm(test_loader, desc=\"Testing\"):\n",
        "        images = images.to(device)\n",
        "        labels = labels.to(device)\n",
        "\n",
        "        outputs = model(images)\n",
        "        loss = criterion(outputs, labels)\n",
        "        running_loss += loss.item()\n",
        "\n",
        "        _, predicted = outputs.max(1)\n",
        "        total += labels.size(0)\n",
        "        correct += (predicted == labels).sum().item()\n",
        "\n",
        "test_loss = running_loss / len(test_loader)\n",
        "test_accuracy = 100.0 * correct / total\n",
        "\n",
        "print(f\"Test Loss: {test_loss:.4f} - Test Acc: {test_accuracy:.2f}%\")"
      ],
      "metadata": {
        "id": "lqriAHUNuRps",
        "colab": {
          "base_uri": "https://localhost:8080/"
        },
        "outputId": "e13c04bd-7e65-48f5-f3e2-fffb237ea135"
      },
      "execution_count": 1,
      "outputs": [
        {
          "output_type": "stream",
          "name": "stdout",
          "text": [
            "Test Loss: 0.3982 - Test Acc: 95.30%\n"
          ]
        }
      ]
    },
    {
      "cell_type": "markdown",
      "source": [
        "# **Precision & Recall**"
      ],
      "metadata": {
        "id": "TX1KD2orzRTJ"
      }
    },
    {
      "cell_type": "code",
      "source": [
        "from sklearn.metrics import precision_score, recall_score\n",
        "import torch\n",
        "\n",
        "# Load the model checkpoint\n",
        "checkpoint_path = \"/content/drive/MyDrive/WineData/model_weight_save/producer_model_weight/model_resnet50_weight_final.pth\"\n",
        "model = models.resnet50(weights='ResNet50_Weights.DEFAULT')\n",
        "num_features = model.fc.in_features\n",
        "model.fc = nn.Linear(num_features, 75)\n",
        "model.load_state_dict(torch.load(checkpoint_path))\n",
        "model = model.to(device)\n",
        "model.eval()\n",
        "\n",
        "predicted_labels = []\n",
        "true_labels = []\n",
        "\n",
        "with torch.no_grad():\n",
        "    for images, labels in test_loader:\n",
        "        images = images.to(device)\n",
        "        labels = labels.to(device)\n",
        "\n",
        "        outputs = model(images)\n",
        "        _, predicted = torch.max(outputs, 1)\n",
        "\n",
        "        predicted_labels.extend(predicted.cpu().numpy())\n",
        "        true_labels.extend(labels.cpu().numpy())\n",
        "\n",
        "precision = precision_score(true_labels, predicted_labels, average='macro')\n",
        "recall = recall_score(true_labels, predicted_labels, average='macro')\n",
        "\n",
        "print(f\"Precision: {precision:.4f}\")\n",
        "print(f\"Recall: {recall:.4f}\")"
      ],
      "metadata": {
        "id": "oG4y9RqHzVTD",
        "colab": {
          "base_uri": "https://localhost:8080/"
        },
        "outputId": "eff36404-a9d9-4074-82a4-39d238ad856f"
      },
      "execution_count": 2,
      "outputs": [
        {
          "output_type": "stream",
          "name": "stdout",
          "text": [
            "Precision: 90.7%\n",
            "Recall: 89.3%\n"
          ]
        }
      ]
    },
    {
      "cell_type": "markdown",
      "source": [
        "# **Save the trained model's weights**"
      ],
      "metadata": {
        "id": "TAuGWPFSQ595"
      }
    },
    {
      "cell_type": "code",
      "source": [
        "# Save the trained model\n",
        "torch.save(model.state_dict(), model_path.format(\"final\"))"
      ],
      "metadata": {
        "id": "pA0uWl0_Q5Q4"
      },
      "execution_count": null,
      "outputs": []
    },
    {
      "cell_type": "code",
      "source": [
        "import pandas as pd\n",
        "import os"
      ],
      "metadata": {
        "id": "HJO66IudxRsn"
      },
      "execution_count": null,
      "outputs": []
    },
    {
      "cell_type": "markdown",
      "source": [
        "# **Predict wine producer given an image from the intenet**"
      ],
      "metadata": {
        "id": "YESmumG-uYAF"
      }
    },
    {
      "cell_type": "code",
      "source": [
        "label_id = pd.read_csv('/content/drive/MyDrive/WineData/labels/label_id.csv')\n",
        "label_id = label_id['label_name'].values.tolist()\n",
        "label_id[11]"
      ],
      "metadata": {
        "colab": {
          "base_uri": "https://localhost:8080/",
          "height": 35
        },
        "id": "HKMQVSJLELOA",
        "outputId": "464d8ce9-f831-4876-cb81-7886f6037e65"
      },
      "execution_count": null,
      "outputs": [
        {
          "output_type": "execute_result",
          "data": {
            "text/plain": [
              "'bottega'"
            ],
            "application/vnd.google.colaboratory.intrinsic+json": {
              "type": "string"
            }
          },
          "metadata": {},
          "execution_count": 10
        }
      ]
    },
    {
      "cell_type": "code",
      "source": [
        "import torch\n",
        "import torch.nn as nn\n",
        "import torchvision.models as models\n",
        "from PIL import Image\n",
        "from torchvision.transforms import ToTensor, Normalize, Resize\n",
        "import urllib\n",
        "from time import time\n",
        "\n",
        "# Load the model checkpoint\n",
        "checkpoint_path = \"/content/drive/MyDrive/WineData/model_weight_save/producer_model_weight/model_resnet50_weight_final.pth\"\n",
        "model = models.resnet50(weights='ResNet50_Weights.DEFAULT')\n",
        "num_features = model.fc.in_features\n",
        "model.fc = nn.Linear(num_features, 75)\n",
        "model.load_state_dict(torch.load(checkpoint_path))\n",
        "device = torch.device('cpu')\n",
        "model = model.to(device)\n",
        "model.eval()\n",
        "\n",
        "# Preprocess the image from the internet\n",
        "times = []\n",
        "folder_path = '/content/drive/MyDrive/WineData/demo'\n",
        "\n",
        "from matplotlib import pyplot as plt\n",
        "fig = plt.figure(figsize=(10, 7))\n",
        "import math\n",
        "list_filenames = os.listdir(folder_path)\n",
        "rows = int(math.sqrt(len(list_filenames)))\n",
        "columns = (len(list_filenames) // rows) + 1\n",
        "for index, filename in enumerate(list_filenames):\n",
        "  time_1 = time()\n",
        "  image_path = os.path.join(folder_path, filename)\n",
        "  image = Image.open(image_path)\n",
        "  preprocess = transforms.Compose([\n",
        "      Resize((224, 224)),\n",
        "      ToTensor(),\n",
        "      Normalize(mean=[0.485, 0.456, 0.406], std=[0.229, 0.224, 0.225])\n",
        "  ])\n",
        "  input_image = preprocess(image)\n",
        "  input_image = input_image.unsqueeze(0)  # Add an extra dimension for batch size\n",
        "\n",
        "  # Make the prediction using the preprocessed image\n",
        "  with torch.no_grad():\n",
        "      output = model(input_image)\n",
        "\n",
        "  # Get the predicted class index\n",
        "  predicted_class = torch.argmax(output).item()\n",
        "  fig.add_subplot(rows, columns, index + 1)\n",
        "\n",
        "  # showing image\n",
        "  plt.imshow(image)\n",
        "  plt.axis('off')\n",
        "  plt.title(label_id[predicted_class])\n",
        "  times.append(time() - time_1)\n",
        "print(sum(times)/len(times))"
      ],
      "metadata": {
        "id": "mmbiMNiZuUIW",
        "colab": {
          "base_uri": "https://localhost:8080/",
          "height": 304
        },
        "outputId": "0729dd5f-eacd-4db3-debe-aa53ffc53b7b"
      },
      "execution_count": null,
      "outputs": [
        {
          "output_type": "stream",
          "name": "stdout",
          "text": [
            "0.5973966121673584\n"
          ]
        },
        {
          "output_type": "display_data",
          "data": {
            "text/plain": [
              "<Figure size 1000x700 with 2 Axes>"
            ],
            "image/png": "[encoded data removed]"
          },
          "metadata": {}
        }
      ]
    },
    {
      "cell_type": "code",
      "source": [
        "#print(\"The Wine's Producer is: {}\".format(label_id[predicted_class]))"
      ],
      "metadata": {
        "id": "1r3cbzU9Ef8W"
      },
      "execution_count": null,
      "outputs": []
    }
  ]
}